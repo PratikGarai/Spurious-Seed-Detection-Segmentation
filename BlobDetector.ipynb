{
 "cells": [
  {
   "cell_type": "code",
   "execution_count": 2,
   "metadata": {},
   "outputs": [],
   "source": [
    "import cv2\n",
    "import numpy"
   ]
  },
  {
   "cell_type": "code",
   "execution_count": 8,
   "metadata": {},
   "outputs": [],
   "source": [
    "def get_detector():\n",
    "    params = cv2.SimpleBlobDetector_Params()\n",
    "    params.minCircularity = 0.85\n",
    "    detector = cv2.SimpleBlobDetector_create(params)\n",
    "    return detector"
   ]
  },
  {
   "cell_type": "code",
   "execution_count": 11,
   "metadata": {},
   "outputs": [],
   "source": [
    "cap = cv2.VideoCapture(0)\n",
    "detector = get_detector()\n",
    "while True:\n",
    "    ret, frame = cap.read()\n",
    "    keypoints = detector.detect(frame)\n",
    "    processed = cv2.drawKeypoints(frame, keypoints, numpy.zeros((1,1)), (0,255,255) ,cv2.DRAW_MATCHES_FLAGS_DRAW_RICH_KEYPOINTS)\n",
    "    cv2.imshow(\"Input\",frame)\n",
    "    cv2.imshow(\"Output\",processed)\n",
    "    if cv2.waitKey(1)==13:\n",
    "        break\n",
    "cv2.destroyAllWindows()\n",
    "cap.release()"
   ]
  },
  {
   "cell_type": "code",
   "execution_count": null,
   "metadata": {},
   "outputs": [],
   "source": []
  }
 ],
 "metadata": {
  "kernelspec": {
   "display_name": "Python 3",
   "language": "python",
   "name": "python3"
  },
  "language_info": {
   "codemirror_mode": {
    "name": "ipython",
    "version": 3
   },
   "file_extension": ".py",
   "mimetype": "text/x-python",
   "name": "python",
   "nbconvert_exporter": "python",
   "pygments_lexer": "ipython3",
   "version": "3.8.5"
  }
 },
 "nbformat": 4,
 "nbformat_minor": 4
}
