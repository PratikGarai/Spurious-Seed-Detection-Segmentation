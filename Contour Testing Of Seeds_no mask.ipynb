{
 "cells": [
  {
   "cell_type": "code",
   "execution_count": 2,
   "metadata": {},
   "outputs": [],
   "source": [
    "import cv2 as cv\n",
    "import numpy\n",
    "import random   # for testing purpose only"
   ]
  },
  {
   "cell_type": "code",
   "execution_count": 3,
   "metadata": {},
   "outputs": [],
   "source": [
    "def get_img_from_mask(contour):\n",
    "    blank = numpy.zeros(img.shape, dtype= img.dtype)\n",
    "    filled = numpy.ones(img.shape, dtype= img.dtype)*255\n",
    "    cv.drawContours(blank, [contour], 0, (255,255,255) , -1)\n",
    "    x,y,w,h = cv.boundingRect(contour)\n",
    "    im = cv.bitwise_xor(img.copy(),filled-blank)\n",
    "    im = im[y:y+h, x:x+w]\n",
    "    return im"
   ]
  },
  {
   "cell_type": "code",
   "execution_count": 4,
   "metadata": {},
   "outputs": [],
   "source": [
    "def process_contour(contour):\n",
    "    \n",
    "    # method 1     : Direct bounding rect\n",
    "    #x,y,w,h = cv.boundingRect(contour)\n",
    "    #im = img[y:y+h, x:x+w]     # this is the array to be sent to the function\n",
    "    \n",
    "    #method 2      : Masking stuff out\n",
    "    im = get_img_from_mask(contour)\n",
    "    \n",
    "    segments.append(im)\n",
    "    #result = somefunction(im)\n",
    "    result = random.randint(0,1)\n",
    "    return result"
   ]
  },
  {
   "cell_type": "code",
   "execution_count": 5,
   "metadata": {},
   "outputs": [],
   "source": [
    "def filter_contours(contours, hierarchy):\n",
    "    c = []\n",
    "    for i,j in zip(contours,hierarchy[0]):\n",
    "        if(j[3]==-1):\n",
    "            c.append(i)\n",
    "    return c"
   ]
  },
  {
   "cell_type": "code",
   "execution_count": 11,
   "metadata": {},
   "outputs": [],
   "source": [
    "def get_contoured_image(im):\n",
    "    imgray = cv.cvtColor(im, cv.COLOR_BGR2GRAY)\n",
    "    imblur = cv.GaussianBlur(imgray,(5,5),sigmaX=0, sigmaY=0)\n",
    "    imc = cv.Canny(imblur,30,220)\n",
    "    ret, thresh = cv.threshold(imc, 127, 255, 0)\n",
    "    contours, hierarchy = cv.findContours(thresh, cv.RETR_TREE, cv.CHAIN_APPROX_NONE)\n",
    "    contours = filter_contours(contours, hierarchy)\n",
    "    for index,i in enumerate(contours):\n",
    "        if process_contour(i)==1:\n",
    "            color = (0,255,0)\n",
    "        else :\n",
    "            color = (0,0,255)\n",
    "        cv.drawContours(im, contours, index, color, 2)\n",
    "    return im"
   ]
  },
  {
   "cell_type": "code",
   "execution_count": 12,
   "metadata": {},
   "outputs": [],
   "source": [
    "def segment_printer(segments):\n",
    "    for index,i in enumerate(segments):\n",
    "        cv.imshow(str(index+1), cv.resize(i, (200,int(200/i.shape[1]*i.shape[0]))))\n",
    "        cv.waitKey()\n",
    "        cv.destroyAllWindows()"
   ]
  },
  {
   "cell_type": "code",
   "execution_count": 13,
   "metadata": {},
   "outputs": [],
   "source": [
    "img = cv.imread('images/img2.jpg')\n",
    "segments = []     #for testing purpose only     \n",
    "\n",
    "cv.imshow(\"Input\", img)\n",
    "new_image = get_contoured_image(img.copy())\n",
    "cv.imshow(\"Output\", new_image)\n",
    "cv.waitKey()\n",
    "cv.destroyAllWindows()\n",
    "segment_printer(segments)    # for testing only"
   ]
  },
  {
   "cell_type": "code",
   "execution_count": null,
   "metadata": {},
   "outputs": [],
   "source": []
  }
 ],
 "metadata": {
  "kernelspec": {
   "display_name": "Python 3",
   "language": "python",
   "name": "python3"
  },
  "language_info": {
   "codemirror_mode": {
    "name": "ipython",
    "version": 3
   },
   "file_extension": ".py",
   "mimetype": "text/x-python",
   "name": "python",
   "nbconvert_exporter": "python",
   "pygments_lexer": "ipython3",
   "version": "3.8.5"
  }
 },
 "nbformat": 4,
 "nbformat_minor": 4
}
