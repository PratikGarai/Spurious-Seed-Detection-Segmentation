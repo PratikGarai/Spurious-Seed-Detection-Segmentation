{
 "cells": [
  {
   "cell_type": "code",
   "execution_count": 1,
   "metadata": {},
   "outputs": [],
   "source": [
    "import cv2 as cv\n",
    "import numpy\n",
    "import random   # for testing purpose only"
   ]
  },
  {
   "cell_type": "code",
   "execution_count": 2,
   "metadata": {},
   "outputs": [],
   "source": [
    "def sharpen(img, k_size, factor):\n",
    "    kernel = -1*(numpy.ones((k_size, k_size), dtype=numpy.uint8))\n",
    "    kernel[int((k_size-1)/2),int((k_size-1)/2)] = factor\n",
    "    img = cv.filter2D(img, -1, kernel)\n",
    "    return img"
   ]
  },
  {
   "cell_type": "code",
   "execution_count": 3,
   "metadata": {},
   "outputs": [],
   "source": [
    "def unshadow(img):\n",
    "    rgb_planes = cv.split(img)\n",
    "\n",
    "    result_planes = []\n",
    "    result_norm_planes = []\n",
    "    for plane in rgb_planes:\n",
    "        dilated_img = cv.dilate(plane, numpy.ones((7,7), numpy.uint8))\n",
    "        bg_img = cv.medianBlur(dilated_img, 21)\n",
    "        diff_img = 255 - cv.absdiff(plane, bg_img)\n",
    "        norm_img = cv.normalize(diff_img,None, alpha=0, beta=255, norm_type=cv.NORM_MINMAX, dtype=cv.CV_8UC1)\n",
    "        result_planes.append(diff_img)\n",
    "        result_norm_planes.append(norm_img)\n",
    "\n",
    "    result = cv.merge(result_planes)\n",
    "    result_norm = cv.merge(result_norm_planes)\n",
    "    return(result, result_planes)"
   ]
  },
  {
   "cell_type": "code",
   "execution_count": 4,
   "metadata": {},
   "outputs": [],
   "source": [
    "def get_img_from_mask(contour, show_masks):\n",
    "    filled = numpy.zeros(img.shape, dtype= img.dtype)*255\n",
    "    im = filled.copy()\n",
    "    cv.drawContours(filled, [contour], 0, (255,255,255) , -1)\n",
    "    x,y,w,h = cv.boundingRect(contour)\n",
    "    if show_masks:\n",
    "        cv.imshow(\"Output\", filled)\n",
    "        cv.waitKey()\n",
    "        cv.destroyAllWindows()\n",
    "    im[filled==(255,255,255)] = img[filled==(255,255,255)]\n",
    "    im = im[y:y+h, x:x+w]\n",
    "    return im"
   ]
  },
  {
   "cell_type": "code",
   "execution_count": 5,
   "metadata": {},
   "outputs": [],
   "source": [
    "def process_contour(contour):\n",
    "    im = get_img_from_mask(contour, show_masks=0)\n",
    "    segments.append(im)\n",
    "    #result = somefunction(im)\n",
    "    result = random.randint(0,1)\n",
    "    return result"
   ]
  },
  {
   "cell_type": "code",
   "execution_count": 6,
   "metadata": {},
   "outputs": [],
   "source": [
    "def filter_contours(contours, hierarchy):\n",
    "    c = []\n",
    "    for i,j in zip(contours,hierarchy[0]):\n",
    "        if(j[3]==-1):\n",
    "            c.append(i)\n",
    "    return c"
   ]
  },
  {
   "cell_type": "code",
   "execution_count": 7,
   "metadata": {},
   "outputs": [],
   "source": [
    "def get_contoured_image(im, blur, canny_low, canny_ratio):\n",
    "    imgray = cv.cvtColor(im, cv.COLOR_BGR2GRAY)\n",
    "    imblur = cv.GaussianBlur(imgray,(blur,blur),sigmaX=0, sigmaY=0)\n",
    "    imc = cv.Canny(imblur,canny_low,canny_low*canny_ratio)\n",
    "    kernel = cv.getStructuringElement(cv.MORPH_ELLIPSE,(5,5))\n",
    "    imc = cv.dilate(imc, kernel)\n",
    "    ret, thresh = cv.threshold(imc, 127, 255,0 )\n",
    "    contours, hierarchy = cv.findContours(thresh, cv.RETR_TREE, cv.CHAIN_APPROX_NONE)\n",
    "    contours = filter_contours(contours, hierarchy)\n",
    "    for index,i in enumerate(contours):\n",
    "        if process_contour(i)==1:\n",
    "            color = (0,255,0)\n",
    "        else :\n",
    "            color = (0,0,255)\n",
    "        cv.drawContours(im, contours, index, color, 2)\n",
    "    return im"
   ]
  },
  {
   "cell_type": "code",
   "execution_count": 8,
   "metadata": {},
   "outputs": [],
   "source": [
    "def segment_printer(segments):\n",
    "    for index,i in enumerate(segments):\n",
    "        cv.imshow(str(index+1), cv.resize(i, (200,int(200/i.shape[1]*i.shape[0]))))\n",
    "        cv.waitKey()\n",
    "        cv.destroyAllWindows()"
   ]
  },
  {
   "cell_type": "code",
   "execution_count": 9,
   "metadata": {},
   "outputs": [],
   "source": [
    "img = cv.imread('images/fenugreek seed.jpeg')\n",
    "img = cv.resize(img, (600,600))\n",
    "segments = []     #for testing purpose only     "
   ]
  },
  {
   "cell_type": "markdown",
   "metadata": {},
   "source": [
    "<h3>Testing of full stuff</h3>"
   ]
  },
  {
   "cell_type": "code",
   "execution_count": 11,
   "metadata": {},
   "outputs": [],
   "source": [
    "cv.imshow(\"Input\", img)\n",
    "new_image = get_contoured_image(img.copy(), blur = 5, canny_low=25, canny_ratio=5)\n",
    "cv.imshow(\"Output\", new_image)\n",
    "cv.waitKey()\n",
    "cv.destroyAllWindows()\n",
    "#segment_printer(segments)    # for testing only"
   ]
  },
  {
   "cell_type": "markdown",
   "metadata": {},
   "source": [
    "<h3>Testing of unshadowing</h3>"
   ]
  },
  {
   "cell_type": "code",
   "execution_count": 33,
   "metadata": {},
   "outputs": [],
   "source": [
    "cv.imshow(\"Input\", img)\n",
    "new_image = unshadow(img.copy())\n",
    "cv.imshow(\"Output Non\", new_image[0])\n",
    "cv.imshow(\"Output With\", new_image[0])\n",
    "cv.waitKey()\n",
    "cv.destroyAllWindows()"
   ]
  },
  {
   "cell_type": "markdown",
   "metadata": {},
   "source": [
    "<h3>Testing of Sharpening</h3>"
   ]
  },
  {
   "cell_type": "code",
   "execution_count": 24,
   "metadata": {},
   "outputs": [],
   "source": [
    "cv.imshow(\"Input\", img)\n",
    "new_image = sharpen(img.copy(), 9, 85)\n",
    "cv.imshow(\"Output\", new_image)\n",
    "cv.waitKey()\n",
    "cv.destroyAllWindows()"
   ]
  },
  {
   "cell_type": "markdown",
   "metadata": {},
   "source": [
    "<h3>Hyper-parameter testing (quite literally)</h3>"
   ]
  },
  {
   "cell_type": "code",
   "execution_count": 11,
   "metadata": {},
   "outputs": [],
   "source": [
    "for blur in range(1,9,2):\n",
    "    for canny_low in range(10,150,30):\n",
    "        for canny_ratio in range(1,10,2):\n",
    "            if canny_low*canny_ratio>=255 :\n",
    "                break\n",
    "            new_image = get_contoured_image(img.copy(), blur = blur, canny_low=canny_low, canny_ratio=canny_ratio)\n",
    "            cv.imshow(\"Blur {}, canny low {}, ratio {} \".format(blur, canny_low, canny_ratio), new_image)\n",
    "            cv.waitKey()\n",
    "            cv.destroyAllWindows()"
   ]
  }
 ],
 "metadata": {
  "kernelspec": {
   "display_name": "Python 3",
   "language": "python",
   "name": "python3"
  },
  "language_info": {
   "codemirror_mode": {
    "name": "ipython",
    "version": 3
   },
   "file_extension": ".py",
   "mimetype": "text/x-python",
   "name": "python",
   "nbconvert_exporter": "python",
   "pygments_lexer": "ipython3",
   "version": "3.8.5"
  }
 },
 "nbformat": 4,
 "nbformat_minor": 4
}
